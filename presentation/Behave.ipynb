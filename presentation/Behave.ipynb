{
 "cells": [
  {
   "cell_type": "markdown",
   "metadata": {},
   "source": [
    "# Introduction\n",
    "\n",
    "* Who am I?\n",
    "* What are we going to work on today?"
   ]
  },
  {
   "cell_type": "markdown",
   "metadata": {},
   "source": [
    "# Agenda\n",
    "\n",
    "* BDD\n",
    "  + Gherkin language\n",
    "* Behave Test Framework\n",
    "  + Feature testing layout\n",
    "  + Scenario outline\n",
    "  + Steps\n",
    "  + Tags\n",
    "* Practical exercises\n",
    "* Usefull resources"
   ]
  },
  {
   "cell_type": "markdown",
   "metadata": {},
   "source": [
    "# What is Behavior Driven Developemnt"
   ]
  },
  {
   "cell_type": "markdown",
   "metadata": {},
   "source": [
    "BDD is a second-generation, outside–in, pull-based, multiple-stakeholder, multiple-scale, high-automation, agile methodology. It describes a cycle of interactions with well-defined outputs, resulting in the delivery of working, tested software that matters."
   ]
  },
  {
   "cell_type": "markdown",
   "metadata": {},
   "source": [
    "## Gherkin language\n",
    "### Given, When, Then (And, But)"
   ]
  },
  {
   "cell_type": "markdown",
   "metadata": {},
   "source": [
    "<span style=\"color: blue;\">Scenario</span>: Refunded items should be returned to stock  \n",
    "&nbsp;&nbsp;&nbsp;&nbsp;<span style=\"color: green;\">**Given**</span> a customer previously bought a black sweater from me  \n",
    "&nbsp;&nbsp;&nbsp;&nbsp;&nbsp;&nbsp;<span style=\"color: green;\">and</span> I currently have three black sweaters left in stock.  \n",
    "&nbsp;&nbsp;&nbsp;&nbsp;<span style=\"color: green;\">**When**</span> he returns the sweater for a refund  \n",
    "&nbsp;&nbsp;&nbsp;&nbsp;<span style=\"color: green;\">**Then**</span> I should have four black sweaters in stock.,  \n",
    "  \n",
    "<span style=\"color: blue;\">Scenario</span>: Replaced items should be returned to stock  \n",
    "&nbsp;&nbsp;&nbsp;&nbsp;<span style=\"color: green;\">**Given**</span> that a customer buys a blue garment  \n",
    "&nbsp;&nbsp;&nbsp;&nbsp;&nbsp;&nbsp;<span style=\"color: green;\">and</span> I have two blue garments in stock  \n",
    "&nbsp;&nbsp;&nbsp;&nbsp;&nbsp;&nbsp;<span style=\"color: green;\">and</span> three black garments in stock.  \n",
    "&nbsp;&nbsp;&nbsp;&nbsp;<span style=\"color: green;\">**When**</span> he returns the garment for a replacement in black,  \n",
    "&nbsp;&nbsp;&nbsp;&nbsp;<span style=\"color: green;\">**Then**</span> I should have three blue garments in stock  \n",
    "&nbsp;&nbsp;&nbsp;&nbsp;&nbsp;&nbsp;<span style=\"color: green;\">and</span> two black garments in stock.  "
   ]
  },
  {
   "cell_type": "markdown",
   "metadata": {},
   "source": [
    "# Behave Test Framework\n",
    "## Feature Testing Layout"
   ]
  },
  {
   "cell_type": "code",
   "execution_count": null,
   "metadata": {},
   "outputs": [],
   "source": [
    "+--features/\n",
    "|   +--steps/       # -- Steps directory\n",
    "|   |    +-- *.py   # -- Step implementation or use step-library python files.\n",
    "|   +-- *.feature   # -- Feature files written by your Business Analyst / Sponsor / whoever \n",
    "                    # with your behaviour scenarios in it"
   ]
  },
  {
   "cell_type": "code",
   "execution_count": null,
   "metadata": {},
   "outputs": [],
   "source": [
    "+-- features/\n",
    "|     +-- steps/\n",
    "|     |    +-- website_steps.py\n",
    "|     |    +-- utils.py\n",
    "|     |\n",
    "|     +-- environment.py      # -- Environment controls(code to run before and after steps, scenarios, features or the whole shooting match)\n",
    "|     +-- signup.feature\n",
    "|     +-- login.feature\n",
    "|     +-- account_details.feature"
   ]
  },
  {
   "cell_type": "markdown",
   "metadata": {},
   "source": [
    "### Feature"
   ]
  },
  {
   "cell_type": "markdown",
   "metadata": {},
   "source": [
    "<span style=\"color: red;\">**Feature**</span>: feature name  \n",
    "\n",
    "&nbsp;&nbsp;<span style=\"color: blue;\">**Scenario**</span>: some scenario  \n",
    "&nbsp;&nbsp;&nbsp;&nbsp;<span style=\"color: green;\">**Given**</span> some condition  \n",
    "&nbsp;&nbsp;&nbsp;&nbsp;<span style=\"color: green;\">**Then**</span> some result is expected.  "
   ]
  },
  {
   "cell_type": "markdown",
   "metadata": {},
   "source": [
    "*@tags @tag*  \n",
    "<span style=\"color: red;\">**Feature**</span>: feature name  \n",
    "&nbsp;&nbsp; description\n",
    "&nbsp;&nbsp; further description  \n",
    "\n",
    "&nbsp;&nbsp;<span style=\"color: blue;\">**Background**</span>: some requirement of this test  \n",
    "&nbsp;&nbsp;&nbsp;&nbsp;<span style=\"color: green;\">**Given**</span> some setup condition  \n",
    "&nbsp;&nbsp;&nbsp;&nbsp;<span style=\"color: green;\">**And**</span> some other setup action.  \n",
    "\n",
    "&nbsp;&nbsp;<span style=\"color: blue;\">**Scenario**</span>: some scenario  \n",
    "&nbsp;&nbsp;&nbsp;&nbsp;<span style=\"color: green;\">**Given**</span> some condition  \n",
    "&nbsp;&nbsp;&nbsp;&nbsp;<span style=\"color: green;\">**When**</span> some action is taken  \n",
    "&nbsp;&nbsp;&nbsp;&nbsp;<span style=\"color: green;\">**Then**</span> some result is expected.  \n",
    "\n",
    "&nbsp;&nbsp;<span style=\"color: blue;\">**Scenario**</span>: some other scenario  \n",
    "&nbsp;&nbsp;&nbsp;&nbsp;<span style=\"color: green;\">**Given**</span> some other condition  \n",
    "&nbsp;&nbsp;&nbsp;&nbsp;<span style=\"color: green;\">**When**</span> some action is taken  \n",
    "&nbsp;&nbsp;&nbsp;&nbsp;<span style=\"color: green;\">**Then**</span> some other result is expected.  "
   ]
  },
  {
   "cell_type": "markdown",
   "metadata": {},
   "source": [
    "### Scenario Outline"
   ]
  },
  {
   "cell_type": "markdown",
   "metadata": {},
   "source": [
    "### Steps"
   ]
  },
  {
   "cell_type": "markdown",
   "metadata": {},
   "source": [
    "# Usefull resources\n",
    "\n",
    "[Behave tutorial](https://behave.readthedocs.io/en/latest/tutorial.html)  \n",
    "[Behavior-Driven Python PyCon 2018](https://www.youtube.com/watch?v=EtIAbfCrsFI)  \n",
    "[Behave documentation](https://behave.readthedocs.io/en/latest/)  \n",
    "[Behave GitHub project](https://github.com/behave/behave)  \n",
    "[Behave examples](https://jenisys.github.io/behave.example/)  "
   ]
  }
 ],
 "metadata": {
  "kernelspec": {
   "display_name": "Python 3",
   "language": "python",
   "name": "python3"
  },
  "language_info": {
   "codemirror_mode": {
    "name": "ipython",
    "version": 3
   },
   "file_extension": ".py",
   "mimetype": "text/x-python",
   "name": "python",
   "nbconvert_exporter": "python",
   "pygments_lexer": "ipython3",
   "version": "3.7.4"
  }
 },
 "nbformat": 4,
 "nbformat_minor": 4
}
