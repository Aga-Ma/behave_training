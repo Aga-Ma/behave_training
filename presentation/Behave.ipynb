{
 "cells": [
  {
   "cell_type": "markdown",
   "metadata": {},
   "source": [
    "# Introduction"
   ]
  },
  {
   "cell_type": "markdown",
   "metadata": {},
   "source": [
    "# Agenda"
   ]
  },
  {
   "cell_type": "markdown",
   "metadata": {},
   "source": [
    "# What is Behavior Driven Developemnt"
   ]
  },
  {
   "cell_type": "markdown",
   "metadata": {},
   "source": [
    "# Behave Test Framework"
   ]
  },
  {
   "cell_type": "markdown",
   "metadata": {},
   "source": [
    "# Usefull resources\n",
    "\n",
    "[Behave tutorial](https://behave.readthedocs.io/en/latest/tutorial.html)  \n",
    "[Behavior-Driven Python PyCon 2018](https://www.youtube.com/watch?v=EtIAbfCrsFI)  \n",
    "[Behave documentation](https://behave.readthedocs.io/en/latest/)  \n",
    "[Behave GitHub project](https://github.com/behave/behave)  \n",
    "[Behave expales](https://jenisys.github.io/behave.example/)  "
   ]
  },
  {
   "cell_type": "code",
   "execution_count": null,
   "metadata": {},
   "outputs": [],
   "source": []
  }
 ],
 "metadata": {
  "kernelspec": {
   "display_name": "Python 3",
   "language": "python",
   "name": "python3"
  },
  "language_info": {
   "codemirror_mode": {
    "name": "ipython",
    "version": 3
   },
   "file_extension": ".py",
   "mimetype": "text/x-python",
   "name": "python",
   "nbconvert_exporter": "python",
   "pygments_lexer": "ipython3",
   "version": "3.7.4"
  }
 },
 "nbformat": 4,
 "nbformat_minor": 4
}
